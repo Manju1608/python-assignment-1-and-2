{
  "nbformat": 4,
  "nbformat_minor": 0,
  "metadata": {
    "colab": {
      "name": "Assignment 1",
      "provenance": [],
      "collapsed_sections": [],
      "include_colab_link": true
    },
    "kernelspec": {
      "display_name": "Python 3",
      "name": "python3"
    }
  },
  "cells": [
    {
      "cell_type": "markdown",
      "metadata": {
        "id": "view-in-github",
        "colab_type": "text"
      },
      "source": [
        "<a href=\"https://colab.research.google.com/github/Manju1608/python-assignment-1-and-2/blob/master/assignment2_gross_pay.ipynb\" target=\"_parent\"><img src=\"https://colab.research.google.com/assets/colab-badge.svg\" alt=\"Open In Colab\"/></a>"
      ]
    },
    {
      "cell_type": "code",
      "metadata": {
        "id": "lU0iR9FM9xdG",
        "colab_type": "code",
        "colab": {
          "base_uri": "https://localhost:8080/",
          "height": 67
        },
        "outputId": "3557e076-9c1b-4a43-b9ba-f1aa580e4ea8"
      },
      "source": [
        "hours = float(input('Enter Hours:'))\n",
        "rate = float(input('Enter Rate:'))\n",
        "pay = hours * rate\n",
        "print ('Pay=',pay)"
      ],
      "execution_count": 17,
      "outputs": [
        {
          "output_type": "stream",
          "text": [
            "Enter Hours:3\n",
            "Enter Rate:2\n",
            "Pay= 6.0\n"
          ],
          "name": "stdout"
        }
      ]
    }
  ]
}