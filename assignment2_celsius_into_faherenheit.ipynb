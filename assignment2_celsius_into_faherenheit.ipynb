{
  "nbformat": 4,
  "nbformat_minor": 0,
  "metadata": {
    "colab": {
      "name": "Assignment 1",
      "provenance": [],
      "collapsed_sections": [],
      "include_colab_link": true
    },
    "kernelspec": {
      "display_name": "Python 3",
      "name": "python3"
    }
  },
  "cells": [
    {
      "cell_type": "markdown",
      "metadata": {
        "id": "view-in-github",
        "colab_type": "text"
      },
      "source": [
        "<a href=\"https://colab.research.google.com/github/Manju1608/python-assignment-1-and-2/blob/master/assignment2_celsius_into_faherenheit.ipynb\" target=\"_parent\"><img src=\"https://colab.research.google.com/assets/colab-badge.svg\" alt=\"Open In Colab\"/></a>"
      ]
    },
    {
      "cell_type": "code",
      "metadata": {
        "id": "LC3opsrr9Ovj",
        "colab_type": "code",
        "colab": {
          "base_uri": "https://localhost:8080/",
          "height": 50
        },
        "outputId": "0e533580-ffb5-427e-f799-0f36d0b10a06"
      },
      "source": [
        "celsius = float(input('Enter degrees in Celsius:'))\n",
        "fahrenheit = float(celsius * 9/5 + 32)\n",
        "print(\"degrees Celsius into fahrenheit is\",fahrenheit)"
      ],
      "execution_count": 15,
      "outputs": [
        {
          "output_type": "stream",
          "text": [
            "Enter degrees in Celsius:40\n",
            "degrees Celsius into fahrenheit is 104.0\n"
          ],
          "name": "stdout"
        }
      ]
    }
  ]
}