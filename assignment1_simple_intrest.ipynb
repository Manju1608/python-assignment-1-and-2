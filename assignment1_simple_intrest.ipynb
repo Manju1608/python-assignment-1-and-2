{
  "nbformat": 4,
  "nbformat_minor": 0,
  "metadata": {
    "colab": {
      "name": "Assignment 1",
      "provenance": [],
      "collapsed_sections": [],
      "include_colab_link": true
    },
    "kernelspec": {
      "display_name": "Python 3",
      "name": "python3"
    }
  },
  "cells": [
    {
      "cell_type": "markdown",
      "metadata": {
        "id": "view-in-github",
        "colab_type": "text"
      },
      "source": [
        "<a href=\"https://colab.research.google.com/github/Manju1608/python-assignment-1-and-2/blob/master/assignment1_simple_intrest.ipynb\" target=\"_parent\"><img src=\"https://colab.research.google.com/assets/colab-badge.svg\" alt=\"Open In Colab\"/></a>"
      ]
    },
    {
      "cell_type": "code",
      "metadata": {
        "id": "s2MHfsgu7Fef",
        "colab_type": "code",
        "colab": {
          "base_uri": "https://localhost:8080/",
          "height": 34
        },
        "outputId": "f013e252-8168-448a-adea-6c6c04d19ed0"
      },
      "source": [
        "p=1000\n",
        "r=1\n",
        "t=2\n",
        "si=(p*t*r)/100\n",
        "print(\"simple intrest is\",si)"
      ],
      "execution_count": 7,
      "outputs": [
        {
          "output_type": "stream",
          "text": [
            "simple intrest is 20.0\n"
          ],
          "name": "stdout"
        }
      ]
    }
  ]
}