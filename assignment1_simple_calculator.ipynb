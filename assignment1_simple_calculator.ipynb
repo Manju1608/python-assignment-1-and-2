{
  "nbformat": 4,
  "nbformat_minor": 0,
  "metadata": {
    "colab": {
      "name": "Assignment 1",
      "provenance": [],
      "collapsed_sections": [],
      "include_colab_link": true
    },
    "kernelspec": {
      "display_name": "Python 3",
      "name": "python3"
    }
  },
  "cells": [
    {
      "cell_type": "markdown",
      "metadata": {
        "id": "view-in-github",
        "colab_type": "text"
      },
      "source": [
        "<a href=\"https://colab.research.google.com/github/Manju1608/python-assignment-1-and-2/blob/master/assignment1_simple_calculator.ipynb\" target=\"_parent\"><img src=\"https://colab.research.google.com/assets/colab-badge.svg\" alt=\"Open In Colab\"/></a>"
      ]
    },
    {
      "cell_type": "code",
      "metadata": {
        "id": "u062VQzY7uSp",
        "colab_type": "code",
        "colab": {
          "base_uri": "https://localhost:8080/",
          "height": 134
        },
        "outputId": "7af8f97c-39bb-4ceb-a759-00e077c2ce2c"
      },
      "source": [
        "a=5\n",
        "b=6\n",
        "c=a+b\n",
        "d=a-b\n",
        "e=a*b\n",
        "f=a/b\n",
        "g=a%b\n",
        "h=a**b\n",
        "i=a//b\n",
        "print(\"addition of two numbers is\",c)\n",
        "print(\"subtraction of two numbers is\",d)\n",
        "print(\"multiplication of two numbers is\",e)\n",
        "print(\"division of two  numbers is\",f)\n",
        "print(\"modulus of two numbers is\",g)\n",
        "print(\"exponent of two numbers is\",h)\n",
        "print(\"floor of two numbers is\",i)\n"
      ],
      "execution_count": 10,
      "outputs": [
        {
          "output_type": "stream",
          "text": [
            "addition of two numbers is 11\n",
            "subtraction of two numbers is -1\n",
            "multiplication of two numbers is 30\n",
            "division of two  numbers is 0.8333333333333334\n",
            "modulus of two numbers is 5\n",
            "exponent of two numbers is 15625\n",
            "floor of two numbers is 0\n"
          ],
          "name": "stdout"
        }
      ]
    }
  ]
}